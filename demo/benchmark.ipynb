{
 "cells": [
  {
   "cell_type": "code",
   "execution_count": 1,
   "metadata": {
    "collapsed": true,
    "pycharm": {
     "name": "#%%\n"
    }
   },
   "outputs": [],
   "source": [
    "import torch\n",
    "import interpol\n",
    "import jitfields\n",
    "from torch.nn import functional as F"
   ]
  },
  {
   "cell_type": "code",
   "execution_count": 2,
   "outputs": [
    {
     "name": "stderr",
     "output_type": "stream",
     "text": [
      "/autofs/space/bal_004/users/yb/code/shared_envs/jitfields/lib/python3.8/site-packages/torch/functional.py:445: UserWarning: torch.meshgrid: in an upcoming release, it will be required to pass the indexing argument. (Triggered internally at  /opt/conda/conda-bld/pytorch_1640811757556/work/aten/src/ATen/native/TensorShape.cpp:2157.)\n",
      "  return _VF.meshgrid(tensors, **kwargs)  # type: ignore[attr-defined]\n"
     ]
    }
   ],
   "source": [
    "ndim = 3\n",
    "shape = [128] * ndim\n",
    "img = torch.stack(torch.meshgrid(*[torch.arange(s).float() for s in shape]), -1)\n",
    "img -= (torch.as_tensor(shape).float() - 1) / 2\n",
    "img = img.square().sum(-1).sqrt()\n",
    "img = (img < 48).float()"
   ],
   "metadata": {
    "collapsed": false,
    "pycharm": {
     "name": "#%%\n"
    }
   }
  },
  {
   "cell_type": "code",
   "execution_count": 3,
   "outputs": [],
   "source": [
    "cshape = [12] * ndim   # number of control points\n",
    "scale = 2              # standard deviation of random displacement size\n",
    "disp = torch.randn([*cshape, ndim]) * scale\n",
    "\n",
    "# interpol.resize expects the number of channels to be first, so we move\n",
    "# it around\n",
    "disp = disp.movedim(-1, 0)\n",
    "disp = interpol.resize(disp, shape=shape, interpolation=3)\n",
    "disp = disp.movedim(0, -1)\n",
    "\n",
    "# convert the *displacement* field into a *sampling* field\n",
    "identity = torch.stack(torch.meshgrid(*[torch.arange(s).float() for s in shape]), -1)\n",
    "grid = identity + disp"
   ],
   "metadata": {
    "collapsed": false,
    "pycharm": {
     "name": "#%%\n"
    }
   }
  },
  {
   "cell_type": "code",
   "execution_count": 7,
   "outputs": [],
   "source": [
    "order = 1\n",
    "\n",
    "def wrp_jit(inp, grid):\n",
    "    out = jitfields.pull(inp.unsqueeze(-1), grid, order=order).squeeze(-1)\n",
    "    if inp.is_cuda:\n",
    "        torch.cuda.synchronize(inp.device)\n",
    "    return out\n",
    "\n",
    "def psh_jit(inp, grid):\n",
    "    out = jitfields.push(inp.unsqueeze(-1), grid, order=order).squeeze(-1)\n",
    "    if inp.is_cuda:\n",
    "        torch.cuda.synchronize(inp.device)\n",
    "    return out\n",
    "\n",
    "def wrp_ts(inp, grid):\n",
    "    out = interpol.grid_pull(inp, grid, interpolation=order)\n",
    "    if inp.is_cuda:\n",
    "        torch.cuda.synchronize(inp.device)\n",
    "    return out\n",
    "\n",
    "def psh_ts(inp, grid):\n",
    "    out = interpol.grid_push(inp, grid, interpolation=order)\n",
    "    if inp.is_cuda:\n",
    "        torch.cuda.synchronize(inp.device)\n",
    "    return out\n",
    "\n",
    "def wrp_torch(inp, grid):\n",
    "    mode = 'bilinear'\n",
    "    grid = grid.flip(-1)\n",
    "    grid[..., 0].add_(0.5).div_(grid.shape[1]/2).sub_(1)\n",
    "    grid[..., 1].add_(0.5).div_(grid.shape[0]/2).sub_(1)\n",
    "    out = F.grid_sample(inp[None, None], grid[None], mode=mode, align_corners=False)[0, 0]\n",
    "    if inp.is_cuda:\n",
    "        torch.cuda.synchronize(inp.device)\n",
    "    return out"
   ],
   "metadata": {
    "collapsed": false,
    "pycharm": {
     "name": "#%%\n"
    }
   }
  },
  {
   "cell_type": "code",
   "execution_count": 5,
   "outputs": [
    {
     "data": {
      "text/plain": "1"
     },
     "execution_count": 5,
     "metadata": {},
     "output_type": "execute_result"
    }
   ],
   "source": [
    "torch.set_num_threads(1)\n",
    "jitfields.set_num_threads(1)"
   ],
   "metadata": {
    "collapsed": false,
    "pycharm": {
     "name": "#%%\n"
    }
   }
  },
  {
   "cell_type": "code",
   "execution_count": 8,
   "outputs": [
    {
     "name": "stdout",
     "output_type": "stream",
     "text": [
      "438 ms ± 4.28 ms per loop (mean ± std. dev. of 7 runs, 1 loop each)\n",
      "392 ms ± 30.6 ms per loop (mean ± std. dev. of 7 runs, 1 loop each)\n",
      "93.1 ms ± 1.32 ms per loop (mean ± std. dev. of 7 runs, 10 loops each)\n",
      "521 ms ± 4.13 ms per loop (mean ± std. dev. of 7 runs, 1 loop each)\n",
      "439 ms ± 9.65 ms per loop (mean ± std. dev. of 7 runs, 1 loop each)\n"
     ]
    }
   ],
   "source": [
    "device = 'cpu'\n",
    "img = img.to(device)\n",
    "grid = grid.to(device)\n",
    "\n",
    "# compile kernels\n",
    "wrp = wrp_ts(img, grid)\n",
    "psh = psh_ts(wrp, grid)\n",
    "wrp = wrp_jit(img, grid)\n",
    "psh = psh_jit(wrp, grid)\n",
    "\n",
    "# time pull\n",
    "%timeit wrp_jit(img, grid)\n",
    "%timeit wrp_ts(img, grid)\n",
    "%timeit wrp_torch(img, grid)\n",
    "\n",
    "# time push\n",
    "%timeit psh_jit(wrp, grid)\n",
    "%timeit psh_ts(wrp, grid)\n"
   ],
   "metadata": {
    "collapsed": false,
    "pycharm": {
     "name": "#%%\n"
    }
   }
  },
  {
   "cell_type": "code",
   "execution_count": 9,
   "outputs": [
    {
     "name": "stdout",
     "output_type": "stream",
     "text": [
      "810 µs ± 872 ns per loop (mean ± std. dev. of 7 runs, 1,000 loops each)\n",
      "5.4 ms ± 87.2 µs per loop (mean ± std. dev. of 7 runs, 1 loop each)\n",
      "789 µs ± 906 ns per loop (mean ± std. dev. of 7 runs, 1,000 loops each)\n",
      "1.07 ms ± 2.93 µs per loop (mean ± std. dev. of 7 runs, 1,000 loops each)\n",
      "5.91 ms ± 79.8 µs per loop (mean ± std. dev. of 7 runs, 1 loop each)\n"
     ]
    }
   ],
   "source": [
    "device = 'cuda'\n",
    "img = img.to(device)\n",
    "grid = grid.to(device)\n",
    "\n",
    "# compile kernels\n",
    "wrp = wrp_ts(img, grid)\n",
    "psh = psh_ts(wrp, grid)\n",
    "wrp = wrp_jit(img, grid)\n",
    "psh = psh_jit(wrp, grid)\n",
    "\n",
    "# time pull\n",
    "%timeit wrp_jit(img, grid)\n",
    "%timeit wrp_ts(img, grid)\n",
    "%timeit wrp_torch(img, grid)\n",
    "\n",
    "# time push\n",
    "%timeit psh_jit(wrp, grid)\n",
    "%timeit psh_ts(wrp, grid)"
   ],
   "metadata": {
    "collapsed": false,
    "pycharm": {
     "name": "#%%\n"
    }
   }
  },
  {
   "cell_type": "code",
   "execution_count": null,
   "outputs": [],
   "source": [],
   "metadata": {
    "collapsed": false,
    "pycharm": {
     "name": "#%%\n"
    }
   }
  },
  {
   "cell_type": "code",
   "execution_count": null,
   "outputs": [],
   "source": [],
   "metadata": {
    "collapsed": false,
    "pycharm": {
     "name": "#%%\n"
    }
   }
  }
 ],
 "metadata": {
  "kernelspec": {
   "display_name": "Python 3",
   "language": "python",
   "name": "python3"
  },
  "language_info": {
   "codemirror_mode": {
    "name": "ipython",
    "version": 2
   },
   "file_extension": ".py",
   "mimetype": "text/x-python",
   "name": "python",
   "nbconvert_exporter": "python",
   "pygments_lexer": "ipython2",
   "version": "2.7.6"
  }
 },
 "nbformat": 4,
 "nbformat_minor": 0
}