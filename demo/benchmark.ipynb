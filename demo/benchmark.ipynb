{
 "cells": [
  {
   "cell_type": "code",
   "execution_count": 1,
   "metadata": {
    "collapsed": true
   },
   "outputs": [
    {
     "name": "stderr",
     "output_type": "stream",
     "text": [
      "Warning: sysroot \"/Applications/Xcode_13.2.1.app/Contents/Developer/Platforms/MacOSX.platform/Developer/SDKs/MacOSX.sdk\" not found (ignoring for now)."
     ]
    }
   ],
   "source": [
    "import torch\n",
    "import interpol\n",
    "import jitfields\n",
    "\n",
    "torch.set_num_threads(1)"
   ]
  },
  {
   "cell_type": "code",
   "execution_count": 2,
   "outputs": [],
   "source": [
    "ndim = 3\n",
    "shape = [128] * ndim\n",
    "img = torch.stack(torch.meshgrid(*[torch.arange(s).float() for s in shape]), -1)\n",
    "img -= (torch.as_tensor(shape).float() - 1) / 2\n",
    "img = img.square().sum(-1).sqrt()\n",
    "img = (img < 48).float()"
   ],
   "metadata": {
    "collapsed": false,
    "pycharm": {
     "name": "#%%\n"
    }
   }
  },
  {
   "cell_type": "code",
   "execution_count": 3,
   "outputs": [],
   "source": [
    "cshape = [12] * ndim   # number of control points\n",
    "scale = 2              # standard deviation of random displacement size\n",
    "disp = torch.randn([*cshape, ndim]) * scale\n",
    "\n",
    "# interpol.resize expects the number of channels to be first, so we move\n",
    "# it around\n",
    "disp = disp.movedim(-1, 0)\n",
    "disp = interpol.resize(disp, shape=shape, interpolation=3)\n",
    "disp = disp.movedim(0, -1)\n",
    "\n",
    "# convert the *displacement* field into a *sampling* field\n",
    "identity = torch.stack(torch.meshgrid(*[torch.arange(s).float() for s in shape]), -1)\n",
    "grid = identity + disp"
   ],
   "metadata": {
    "collapsed": false,
    "pycharm": {
     "name": "#%%\n"
    }
   }
  },
  {
   "cell_type": "code",
   "execution_count": 4,
   "outputs": [
    {
     "name": "stdout",
     "output_type": "stream",
     "text": [
      "361 ms ± 27.1 ms per loop (mean ± std. dev. of 7 runs, 1 loop each)\n",
      "486 ms ± 57.1 ms per loop (mean ± std. dev. of 7 runs, 1 loop each)\n",
      "378 ms ± 35.7 ms per loop (mean ± std. dev. of 7 runs, 1 loop each)\n",
      "551 ms ± 92.1 ms per loop (mean ± std. dev. of 7 runs, 1 loop each)\n"
     ]
    }
   ],
   "source": [
    "order = 1\n",
    "torch.set_num_threads(1)\n",
    "\n",
    "# compile kernels\n",
    "wrp_jit = jitfields.pull(img.unsqueeze(-1), grid, order=order).squeeze(-1)\n",
    "psh_jit = jitfields.push(wrp_jit.unsqueeze(-1), grid, order=order).squeeze(-1)\n",
    "\n",
    "# time pull\n",
    "%timeit jitfields.pull(img.unsqueeze(-1), grid, order=order).squeeze(-1)\n",
    "%timeit interpol.grid_pull(img, grid, interpolation=order)\n",
    "\n",
    "# time push\n",
    "%timeit jitfields.push(wrp_jit.unsqueeze(-1), grid, order=order).squeeze(-1)\n",
    "%timeit interpol.grid_push(wrp_jit, grid, interpolation=order)\n"
   ],
   "metadata": {
    "collapsed": false,
    "pycharm": {
     "name": "#%%\n"
    }
   }
  },
  {
   "cell_type": "code",
   "execution_count": null,
   "outputs": [],
   "source": [
    "img = img.cuda()\n",
    "grid = grid.cuda()\n",
    "\n",
    "# compile kernels\n",
    "wrp_jit = jitfields.pull(img.unsqueeze(-1), grid, order=order).squeeze(-1)\n",
    "psh_jit = jitfields.push(wrp_jit.unsqueeze(-1), grid, order=order).squeeze(-1)\n",
    "\n",
    "# time pull\n",
    "%timeit jitfields.pull(img.unsqueeze(-1), grid, order=order).squeeze(-1)\n",
    "%timeit interpol.grid_pull(img, grid, interpolation=order)\n",
    "\n",
    "# time push\n",
    "%timeit jitfields.push(wrp_jit.unsqueeze(-1), grid, order=order).squeeze(-1)\n",
    "%timeit interpol.grid_push(wrp_jit, grid, interpolation=order)"
   ],
   "metadata": {
    "collapsed": false,
    "pycharm": {
     "name": "#%%\n"
    }
   }
  }
 ],
 "metadata": {
  "kernelspec": {
   "display_name": "Python 3",
   "language": "python",
   "name": "python3"
  },
  "language_info": {
   "codemirror_mode": {
    "name": "ipython",
    "version": 2
   },
   "file_extension": ".py",
   "mimetype": "text/x-python",
   "name": "python",
   "nbconvert_exporter": "python",
   "pygments_lexer": "ipython2",
   "version": "2.7.6"
  }
 },
 "nbformat": 4,
 "nbformat_minor": 0
}