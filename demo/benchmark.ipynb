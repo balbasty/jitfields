{
 "cells": [
  {
   "cell_type": "code",
   "execution_count": 1,
   "metadata": {
    "collapsed": true,
    "pycharm": {
     "name": "#%%\n"
    }
   },
   "outputs": [],
   "source": [
    "import torch\n",
    "import interpol\n",
    "import jitfields"
   ]
  },
  {
   "cell_type": "code",
   "execution_count": 2,
   "outputs": [
    {
     "name": "stderr",
     "output_type": "stream",
     "text": [
      "/autofs/space/bal_004/users/yb/code/shared_envs/jitfields/lib/python3.8/site-packages/torch/functional.py:445: UserWarning: torch.meshgrid: in an upcoming release, it will be required to pass the indexing argument. (Triggered internally at  /opt/conda/conda-bld/pytorch_1640811757556/work/aten/src/ATen/native/TensorShape.cpp:2157.)\n",
      "  return _VF.meshgrid(tensors, **kwargs)  # type: ignore[attr-defined]\n"
     ]
    }
   ],
   "source": [
    "ndim = 3\n",
    "shape = [128] * ndim\n",
    "img = torch.stack(torch.meshgrid(*[torch.arange(s).float() for s in shape]), -1)\n",
    "img -= (torch.as_tensor(shape).float() - 1) / 2\n",
    "img = img.square().sum(-1).sqrt()\n",
    "img = (img < 48).float()"
   ],
   "metadata": {
    "collapsed": false,
    "pycharm": {
     "name": "#%%\n"
    }
   }
  },
  {
   "cell_type": "code",
   "execution_count": 3,
   "outputs": [],
   "source": [
    "cshape = [12] * ndim   # number of control points\n",
    "scale = 2              # standard deviation of random displacement size\n",
    "disp = torch.randn([*cshape, ndim]) * scale\n",
    "\n",
    "# interpol.resize expects the number of channels to be first, so we move\n",
    "# it around\n",
    "disp = disp.movedim(-1, 0)\n",
    "disp = interpol.resize(disp, shape=shape, interpolation=3)\n",
    "disp = disp.movedim(0, -1)\n",
    "\n",
    "# convert the *displacement* field into a *sampling* field\n",
    "identity = torch.stack(torch.meshgrid(*[torch.arange(s).float() for s in shape]), -1)\n",
    "grid = identity + disp"
   ],
   "metadata": {
    "collapsed": false,
    "pycharm": {
     "name": "#%%\n"
    }
   }
  },
  {
   "cell_type": "code",
   "execution_count": 10,
   "outputs": [],
   "source": [
    "order = 2\n",
    "\n",
    "def wrp_jit(inp, grid):\n",
    "    out = jitfields.pull(inp.unsqueeze(-1), grid, order=order).squeeze(-1)\n",
    "    if inp.is_cuda:\n",
    "        torch.cuda.synchronize(inp.device)\n",
    "    return out\n",
    "\n",
    "def psh_jit(inp, grid):\n",
    "    out = jitfields.push(inp.unsqueeze(-1), grid, order=order).squeeze(-1)\n",
    "    if inp.is_cuda:\n",
    "        torch.cuda.synchronize(inp.device)\n",
    "    return out\n",
    "\n",
    "def wrp_tch(inp, grid):\n",
    "    out = interpol.grid_pull(inp, grid, interpolation=order)\n",
    "    if inp.is_cuda:\n",
    "        torch.cuda.synchronize(inp.device)\n",
    "    return out\n",
    "\n",
    "def psh_tch(inp, grid):\n",
    "    out = interpol.grid_push(inp, grid, interpolation=order)\n",
    "    if inp.is_cuda:\n",
    "        torch.cuda.synchronize(inp.device)\n",
    "    return out"
   ],
   "metadata": {
    "collapsed": false,
    "pycharm": {
     "name": "#%%\n"
    }
   }
  },
  {
   "cell_type": "code",
   "execution_count": 11,
   "outputs": [
    {
     "data": {
      "text/plain": "1"
     },
     "execution_count": 11,
     "metadata": {},
     "output_type": "execute_result"
    }
   ],
   "source": [
    "torch.set_num_threads(1)\n",
    "jitfields.set_num_threads(1)"
   ],
   "metadata": {
    "collapsed": false,
    "pycharm": {
     "name": "#%%\n"
    }
   }
  },
  {
   "cell_type": "code",
   "execution_count": 12,
   "outputs": [
    {
     "name": "stdout",
     "output_type": "stream",
     "text": [
      "679 ms ± 4.34 ms per loop (mean ± std. dev. of 7 runs, 1 loop each)\n",
      "1.27 s ± 7.43 ms per loop (mean ± std. dev. of 7 runs, 1 loop each)\n",
      "916 ms ± 8.76 ms per loop (mean ± std. dev. of 7 runs, 1 loop each)\n",
      "1.15 s ± 31.1 ms per loop (mean ± std. dev. of 7 runs, 1 loop each)\n"
     ]
    }
   ],
   "source": [
    "device = 'cpu'\n",
    "img = img.to(device)\n",
    "grid = grid.to(device)\n",
    "\n",
    "# compile kernels\n",
    "wrp = wrp_tch(img, grid)\n",
    "psh = psh_tch(wrp, grid)\n",
    "wrp = wrp_jit(img, grid)\n",
    "psh = psh_jit(wrp, grid)\n",
    "\n",
    "# time pull\n",
    "%timeit wrp_jit(img, grid)\n",
    "%timeit wrp_tch(img, grid)\n",
    "\n",
    "# time push\n",
    "%timeit psh_jit(wrp, grid)\n",
    "%timeit psh_tch(wrp, grid)\n"
   ],
   "metadata": {
    "collapsed": false,
    "pycharm": {
     "name": "#%%\n"
    }
   }
  },
  {
   "cell_type": "code",
   "execution_count": 13,
   "outputs": [
    {
     "name": "stdout",
     "output_type": "stream",
     "text": [
      "1.38 ms ± 1.42 µs per loop (mean ± std. dev. of 7 runs, 1,000 loops each)\n",
      "24.3 ms ± 8.41 µs per loop (mean ± std. dev. of 7 runs, 10 loops each)\n",
      "1.92 ms ± 1.31 µs per loop (mean ± std. dev. of 7 runs, 1,000 loops each)\n",
      "22.2 ms ± 3.33 µs per loop (mean ± std. dev. of 7 runs, 10 loops each)\n"
     ]
    }
   ],
   "source": [
    "device = 'cuda'\n",
    "img = img.to(device)\n",
    "grid = grid.to(device)\n",
    "\n",
    "# compile kernels\n",
    "wrp = wrp_tch(img, grid)\n",
    "psh = psh_tch(wrp, grid)\n",
    "wrp = wrp_jit(img, grid)\n",
    "psh = psh_jit(wrp, grid)\n",
    "\n",
    "# time pull\n",
    "%timeit wrp_jit(img, grid)\n",
    "%timeit wrp_tch(img, grid)\n",
    "\n",
    "# time push\n",
    "%timeit psh_jit(wrp, grid)\n",
    "%timeit psh_tch(wrp, grid)"
   ],
   "metadata": {
    "collapsed": false,
    "pycharm": {
     "name": "#%%\n"
    }
   }
  },
  {
   "cell_type": "code",
   "execution_count": null,
   "outputs": [],
   "source": [],
   "metadata": {
    "collapsed": false,
    "pycharm": {
     "name": "#%%\n"
    }
   }
  },
  {
   "cell_type": "code",
   "execution_count": null,
   "outputs": [],
   "source": [],
   "metadata": {
    "collapsed": false,
    "pycharm": {
     "name": "#%%\n"
    }
   }
  }
 ],
 "metadata": {
  "kernelspec": {
   "display_name": "Python 3",
   "language": "python",
   "name": "python3"
  },
  "language_info": {
   "codemirror_mode": {
    "name": "ipython",
    "version": 2
   },
   "file_extension": ".py",
   "mimetype": "text/x-python",
   "name": "python",
   "nbconvert_exporter": "python",
   "pygments_lexer": "ipython2",
   "version": "2.7.6"
  }
 },
 "nbformat": 4,
 "nbformat_minor": 0
}